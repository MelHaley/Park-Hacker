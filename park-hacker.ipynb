{
 "cells": [
  {
   "cell_type": "markdown",
   "id": "fe964c7d-bc4c-41f9-9080-7b99bb51db57",
   "metadata": {},
   "source": [
    "## Data preprocessing"
   ]
  },
  {
   "cell_type": "markdown",
   "id": "0ce624e3-73c4-485d-b685-d6409c3a9c55",
   "metadata": {},
   "source": [
    "This project uses data provided by\n",
    "https://touringplans.com/walt-disney-world/crowd-calendar#DataSets\n",
    "\n",
    "Thank you touringplans.com!!"
   ]
  },
  {
   "cell_type": "markdown",
   "id": "5044ee04-6081-4a9d-b8c5-e47a38aeb2af",
   "metadata": {},
   "source": [
    "### import libraries"
   ]
  },
  {
   "cell_type": "code",
   "execution_count": 188,
   "id": "08fdcfe1-f8b3-4bb0-8bcd-9bdf499446e3",
   "metadata": {},
   "outputs": [],
   "source": [
    "import numpy as np\n",
    "import pandas as pd\n",
    "#import time\n",
    "import datetime\n",
    "#import matplotlib.pyplot as plt\n",
    "#import seaborn as sns\n",
    "#sns.set()\n",
    "import os\n",
    "import dill\n",
    "import requests\n",
    "from itertools import combinations\n",
    "import googlemaps"
   ]
  },
  {
   "cell_type": "markdown",
   "id": "a693a05a-43bc-4f46-aa9b-c47d9ed8de63",
   "metadata": {},
   "source": [
    "### create a list of ride names"
   ]
  },
  {
   "cell_type": "code",
   "execution_count": 189,
   "id": "278dbbcc-215f-4ae7-9576-5675e8e1a92c",
   "metadata": {},
   "outputs": [
    {
     "data": {
      "text/plain": [
       "(14398, 4)"
      ]
     },
     "execution_count": 189,
     "metadata": {},
     "output_type": "execute_result"
    }
   ],
   "source": [
    "# each ride has a csv file of historical wait time data\n",
    "# load a sample to inspect\n",
    "\n",
    "df = pd.read_csv(path+'enchanted_tiki_rm.csv')\n",
    "df[df['SPOSTMIN']>0].shape"
   ]
  },
  {
   "cell_type": "code",
   "execution_count": 190,
   "id": "1c81051c-ce54-44f6-bb9c-00556ce7e423",
   "metadata": {},
   "outputs": [],
   "source": [
    "# some ride csv files are empty or have too few data points\n",
    "# -999 is the code for ride closure, so valid data points are > 0\n",
    "# create a list of ride names with valid csv files\n",
    "\n",
    "path = \"/Users/melhaley/Documents/TheDataIncubator/Capstone/ParkHacker/data/touring-plan/\"\n",
    "ride_files = [file for file in os.listdir(path) if file.endswith('.csv')]\n",
    "ride_names = []\n",
    "for ride in ride_files:\n",
    "    df = pd.read_csv(path+ride)\n",
    "    if df[df['SPOSTMIN']>0].shape[0] > 50000:\n",
    "        ride_names.append(os.path.splitext(ride)[0])"
   ]
  },
  {
   "cell_type": "code",
   "execution_count": 191,
   "id": "f2ad04db-e1ef-4c3f-ae49-4cad1e93bdf3",
   "metadata": {},
   "outputs": [
    {
     "data": {
      "text/plain": [
       "36"
      ]
     },
     "execution_count": 191,
     "metadata": {},
     "output_type": "execute_result"
    }
   ],
   "source": [
    "len(ride_names)"
   ]
  },
  {
   "cell_type": "markdown",
   "id": "c9319344-e1c9-4909-b06b-482856941da7",
   "metadata": {},
   "source": [
    "### preprocess metadata"
   ]
  },
  {
   "cell_type": "code",
   "execution_count": 192,
   "id": "60ef77d8-2d45-4534-a4ff-0ea75d8aeff9",
   "metadata": {},
   "outputs": [
    {
     "data": {
      "text/html": [
       "<div>\n",
       "<style scoped>\n",
       "    .dataframe tbody tr th:only-of-type {\n",
       "        vertical-align: middle;\n",
       "    }\n",
       "\n",
       "    .dataframe tbody tr th {\n",
       "        vertical-align: top;\n",
       "    }\n",
       "\n",
       "    .dataframe thead th {\n",
       "        text-align: right;\n",
       "    }\n",
       "</style>\n",
       "<table border=\"1\" class=\"dataframe\">\n",
       "  <thead>\n",
       "    <tr style=\"text-align: right;\">\n",
       "      <th></th>\n",
       "      <th>DATE</th>\n",
       "      <th>WDW_TICKET_SEASON</th>\n",
       "      <th>DAYOFWEEK</th>\n",
       "      <th>DAYOFYEAR</th>\n",
       "      <th>WEEKOFYEAR</th>\n",
       "      <th>MONTHOFYEAR</th>\n",
       "      <th>YEAR</th>\n",
       "      <th>SEASON</th>\n",
       "      <th>HOLIDAYPX</th>\n",
       "      <th>HOLIDAYM</th>\n",
       "      <th>...</th>\n",
       "      <th>HSFIREWKS</th>\n",
       "      <th>AKPRDDAY</th>\n",
       "      <th>AKPRDDT1</th>\n",
       "      <th>AKPRDDT2</th>\n",
       "      <th>AKPRDDN</th>\n",
       "      <th>AKFIREN</th>\n",
       "      <th>AKSHWNGT</th>\n",
       "      <th>AKSHWNT1</th>\n",
       "      <th>AKSHWNT2</th>\n",
       "      <th>AKSHWNN</th>\n",
       "    </tr>\n",
       "  </thead>\n",
       "  <tbody>\n",
       "    <tr>\n",
       "      <th>0</th>\n",
       "      <td>01/01/2015</td>\n",
       "      <td>NaN</td>\n",
       "      <td>5</td>\n",
       "      <td>0</td>\n",
       "      <td>0</td>\n",
       "      <td>1</td>\n",
       "      <td>2015</td>\n",
       "      <td>CHRISTMAS PEAK</td>\n",
       "      <td>0</td>\n",
       "      <td>5</td>\n",
       "      <td>...</td>\n",
       "      <td>1</td>\n",
       "      <td>0</td>\n",
       "      <td>NaN</td>\n",
       "      <td>NaN</td>\n",
       "      <td>NaN</td>\n",
       "      <td>NaN</td>\n",
       "      <td>0</td>\n",
       "      <td>NaN</td>\n",
       "      <td>NaN</td>\n",
       "      <td>NaN</td>\n",
       "    </tr>\n",
       "    <tr>\n",
       "      <th>1</th>\n",
       "      <td>01/02/2015</td>\n",
       "      <td>NaN</td>\n",
       "      <td>6</td>\n",
       "      <td>1</td>\n",
       "      <td>0</td>\n",
       "      <td>1</td>\n",
       "      <td>2015</td>\n",
       "      <td>CHRISTMAS</td>\n",
       "      <td>2</td>\n",
       "      <td>5</td>\n",
       "      <td>...</td>\n",
       "      <td>1</td>\n",
       "      <td>0</td>\n",
       "      <td>NaN</td>\n",
       "      <td>NaN</td>\n",
       "      <td>NaN</td>\n",
       "      <td>NaN</td>\n",
       "      <td>0</td>\n",
       "      <td>NaN</td>\n",
       "      <td>NaN</td>\n",
       "      <td>NaN</td>\n",
       "    </tr>\n",
       "    <tr>\n",
       "      <th>2</th>\n",
       "      <td>01/03/2015</td>\n",
       "      <td>NaN</td>\n",
       "      <td>7</td>\n",
       "      <td>2</td>\n",
       "      <td>0</td>\n",
       "      <td>1</td>\n",
       "      <td>2015</td>\n",
       "      <td>CHRISTMAS</td>\n",
       "      <td>3</td>\n",
       "      <td>0</td>\n",
       "      <td>...</td>\n",
       "      <td>1</td>\n",
       "      <td>0</td>\n",
       "      <td>NaN</td>\n",
       "      <td>NaN</td>\n",
       "      <td>NaN</td>\n",
       "      <td>NaN</td>\n",
       "      <td>0</td>\n",
       "      <td>NaN</td>\n",
       "      <td>NaN</td>\n",
       "      <td>NaN</td>\n",
       "    </tr>\n",
       "    <tr>\n",
       "      <th>3</th>\n",
       "      <td>01/04/2015</td>\n",
       "      <td>NaN</td>\n",
       "      <td>1</td>\n",
       "      <td>3</td>\n",
       "      <td>1</td>\n",
       "      <td>1</td>\n",
       "      <td>2015</td>\n",
       "      <td>CHRISTMAS</td>\n",
       "      <td>4</td>\n",
       "      <td>0</td>\n",
       "      <td>...</td>\n",
       "      <td>1</td>\n",
       "      <td>0</td>\n",
       "      <td>NaN</td>\n",
       "      <td>NaN</td>\n",
       "      <td>NaN</td>\n",
       "      <td>NaN</td>\n",
       "      <td>0</td>\n",
       "      <td>NaN</td>\n",
       "      <td>NaN</td>\n",
       "      <td>NaN</td>\n",
       "    </tr>\n",
       "    <tr>\n",
       "      <th>4</th>\n",
       "      <td>01/05/2015</td>\n",
       "      <td>NaN</td>\n",
       "      <td>2</td>\n",
       "      <td>4</td>\n",
       "      <td>1</td>\n",
       "      <td>1</td>\n",
       "      <td>2015</td>\n",
       "      <td>CHRISTMAS</td>\n",
       "      <td>5</td>\n",
       "      <td>0</td>\n",
       "      <td>...</td>\n",
       "      <td>1</td>\n",
       "      <td>0</td>\n",
       "      <td>NaN</td>\n",
       "      <td>NaN</td>\n",
       "      <td>NaN</td>\n",
       "      <td>NaN</td>\n",
       "      <td>0</td>\n",
       "      <td>NaN</td>\n",
       "      <td>NaN</td>\n",
       "      <td>NaN</td>\n",
       "    </tr>\n",
       "  </tbody>\n",
       "</table>\n",
       "<p>5 rows × 181 columns</p>\n",
       "</div>"
      ],
      "text/plain": [
       "         DATE WDW_TICKET_SEASON  DAYOFWEEK  DAYOFYEAR  WEEKOFYEAR   \n",
       "0  01/01/2015               NaN          5          0           0  \\\n",
       "1  01/02/2015               NaN          6          1           0   \n",
       "2  01/03/2015               NaN          7          2           0   \n",
       "3  01/04/2015               NaN          1          3           1   \n",
       "4  01/05/2015               NaN          2          4           1   \n",
       "\n",
       "   MONTHOFYEAR  YEAR          SEASON  HOLIDAYPX  HOLIDAYM  ... HSFIREWKS   \n",
       "0            1  2015  CHRISTMAS PEAK          0         5  ...         1  \\\n",
       "1            1  2015       CHRISTMAS          2         5  ...         1   \n",
       "2            1  2015       CHRISTMAS          3         0  ...         1   \n",
       "3            1  2015       CHRISTMAS          4         0  ...         1   \n",
       "4            1  2015       CHRISTMAS          5         0  ...         1   \n",
       "\n",
       "   AKPRDDAY AKPRDDT1 AKPRDDT2 AKPRDDN  AKFIREN  AKSHWNGT AKSHWNT1  AKSHWNT2   \n",
       "0         0      NaN      NaN     NaN      NaN         0      NaN       NaN  \\\n",
       "1         0      NaN      NaN     NaN      NaN         0      NaN       NaN   \n",
       "2         0      NaN      NaN     NaN      NaN         0      NaN       NaN   \n",
       "3         0      NaN      NaN     NaN      NaN         0      NaN       NaN   \n",
       "4         0      NaN      NaN     NaN      NaN         0      NaN       NaN   \n",
       "\n",
       "   AKSHWNN  \n",
       "0      NaN  \n",
       "1      NaN  \n",
       "2      NaN  \n",
       "3      NaN  \n",
       "4      NaN  \n",
       "\n",
       "[5 rows x 181 columns]"
      ]
     },
     "execution_count": 192,
     "metadata": {},
     "output_type": "execute_result"
    }
   ],
   "source": [
    "# the touring-plan dataset includes a metadata file of 190 variables, we will use a subset.\n",
    "\n",
    "raw_metadata = pd.read_csv('/Users/melhaley/Documents/TheDataIncubator/Capstone/ParkHacker/data/metadata.csv')\n",
    "raw_metadata.head()"
   ]
  },
  {
   "cell_type": "code",
   "execution_count": 193,
   "id": "d81c0713-5baf-4019-8681-9ba095b4de71",
   "metadata": {
    "tags": []
   },
   "outputs": [],
   "source": [
    "# select seasonal and weather feature variables in metadata file, deal with missing values\n",
    "\n",
    "meta_columns = ['DATE','DAYOFWEEK', 'DAYOFYEAR', 'WEEKOFYEAR', 'MONTHOFYEAR', 'YEAR', 'SEASON',\n",
    "              'HOLIDAYN', 'HOLIDAY', 'WEATHER_WDWPRECIP', 'WDWMINTEMP', 'WDWMEANTEMP', 'WDWMAXTEMP']\n",
    "\n",
    "metadata = raw_metadata[meta_columns].copy()\n",
    "metadata.columns = metadata.columns.str.lower()\n",
    "metadata['holidayn'] = metadata['holidayn'].fillna(value='no_holiday')\n",
    "metadata['season'] = metadata['season'].fillna(value='off_season')\n",
    "metadata = metadata.dropna(axis=0) # this is approx. 6 rows\n",
    "\n",
    "with open('metadata', 'wb') as f:\n",
    "    dill.dump(metadata, f)"
   ]
  },
  {
   "cell_type": "markdown",
   "id": "b94f68d6-c1e3-4709-9332-063e1c5ccc34",
   "metadata": {},
   "source": [
    "### generate feature matrix and labels for each ride"
   ]
  },
  {
   "cell_type": "code",
   "execution_count": 196,
   "id": "89d27f62-fa81-4c5b-9d9b-458501c3a562",
   "metadata": {
    "tags": []
   },
   "outputs": [],
   "source": [
    "def get_ride_Xy(ride_names, path, clean_metadata):\n",
    "    '''Creates dict of X (feature matrix) and y (labels) for each ride'''\n",
    "    ride_features = {}\n",
    "    ride_targets = {}\n",
    "    for ride in ride_names:\n",
    "        location = path+ride+\".csv\"\n",
    "        df = pd.read_csv(location)\n",
    "# drop -999 (closed code) and outliers\n",
    "        df = df.where(df['SPOSTMIN'] >= 0)\n",
    "        df = df.where(df['SPOSTMIN'] <300)\n",
    "# use actual recorded wait, fill na with posted wait, then drop remaining na\n",
    "        df['wait'] = df['SACTMIN'].mask(df['SACTMIN'].isna(), df['SPOSTMIN'])\n",
    "        df = df.dropna(subset='wait', axis=0)\n",
    "# convert date_string to datetime and extract epoch and hourofday\n",
    "        df['datetime'] = df['datetime'].apply(get_datetime)\n",
    "        df['hourofday'] = df['datetime'].apply(get_hour)\n",
    "        df['epoch'] = df['datetime'].apply(get_epoch)\n",
    "        ride_df = df.groupby(df['datetime']).max() # group by the longest wait in a given hour\n",
    "        ride_df['bydate'] = pd.to_datetime(ride_df['date'])\n",
    "# merge with  metadata\n",
    "        ride_df = pd.merge(ride_df, clean_metadata, on='date')\n",
    "# drop targets from features\n",
    "        df_X = ride_df.drop(['SPOSTMIN', 'SACTMIN', 'wait'], axis=1)\n",
    "# add to dicts\n",
    "        df_X = df_X.reset_index()\n",
    "        ride_features[ride] = df_X\n",
    "        ride_targets[ride] = ride_df['wait']\n",
    "    return ride_features, ride_targets\n",
    "\n",
    "\n",
    "\n",
    "def get_datetime(x):\n",
    "    '''returns date and hour in datetime format'''\n",
    "    dt =  datetime.datetime.strptime(x,'%Y-%m-%d %H:%M:%S')\n",
    "    return dt.replace(minute=0, second=0)\n",
    "\n",
    "def get_hour(x):\n",
    "    '''returns the hour'''\n",
    "    return x.hour\n",
    "\n",
    "def get_epoch(x):\n",
    "    '''returns the epoch'''\n",
    "    return x.timestamp()"
   ]
  },
  {
   "cell_type": "code",
   "execution_count": 198,
   "id": "29ffb1ad-885b-485a-9968-9886ec4ef04c",
   "metadata": {
    "tags": []
   },
   "outputs": [],
   "source": [
    "ride_dict_Xy = get_ride_Xy(ride_names, path, metadata)\n",
    "\n",
    "with open('ride-dict-Xy', 'wb') as f:\n",
    "    dill.dump(ride_dict_Xy, f)"
   ]
  },
  {
   "cell_type": "markdown",
   "id": "a896dd01-99db-4961-bf04-ed9fcb2be692",
   "metadata": {},
   "source": [
    "### create look-up tables for app:"
   ]
  },
  {
   "cell_type": "markdown",
   "id": "060cce33-8007-4cab-8ae1-b07cce755965",
   "metadata": {},
   "source": [
    "#### ride dict with ride name, ride filename, ride duration"
   ]
  },
  {
   "cell_type": "code",
   "execution_count": 104,
   "id": "719b6a43-52b8-4538-9a5b-c56616d59172",
   "metadata": {},
   "outputs": [
    {
     "data": {
      "text/html": [
       "<div>\n",
       "<style scoped>\n",
       "    .dataframe tbody tr th:only-of-type {\n",
       "        vertical-align: middle;\n",
       "    }\n",
       "\n",
       "    .dataframe tbody tr th {\n",
       "        vertical-align: top;\n",
       "    }\n",
       "\n",
       "    .dataframe thead th {\n",
       "        text-align: right;\n",
       "    }\n",
       "</style>\n",
       "<table border=\"1\" class=\"dataframe\">\n",
       "  <thead>\n",
       "    <tr style=\"text-align: right;\">\n",
       "      <th></th>\n",
       "      <th>code</th>\n",
       "      <th>name</th>\n",
       "      <th>short_name</th>\n",
       "      <th>land</th>\n",
       "      <th>opened_on</th>\n",
       "      <th>duration</th>\n",
       "      <th>average_wait_per_hundred</th>\n",
       "    </tr>\n",
       "  </thead>\n",
       "  <tbody>\n",
       "    <tr>\n",
       "      <th>0</th>\n",
       "      <td>AK01</td>\n",
       "      <td>It's Tough to Be a Bug!</td>\n",
       "      <td>It's Tough to Be a Bug</td>\n",
       "      <td>Discovery Island</td>\n",
       "      <td>04/22/1998</td>\n",
       "      <td>8.0</td>\n",
       "      <td>12.0</td>\n",
       "    </tr>\n",
       "    <tr>\n",
       "      <th>1</th>\n",
       "      <td>AK07</td>\n",
       "      <td>Kilimanjaro Safaris</td>\n",
       "      <td>Kilimanjaro Safaris</td>\n",
       "      <td>Africa</td>\n",
       "      <td>04/22/1998</td>\n",
       "      <td>20.0</td>\n",
       "      <td>4.0</td>\n",
       "    </tr>\n",
       "    <tr>\n",
       "      <th>2</th>\n",
       "      <td>AK11</td>\n",
       "      <td>Expedition Everest - Legend of the Forbidden M...</td>\n",
       "      <td>Expedition Everest</td>\n",
       "      <td>Asia</td>\n",
       "      <td>04/07/2006</td>\n",
       "      <td>4.0</td>\n",
       "      <td>4.0</td>\n",
       "    </tr>\n",
       "    <tr>\n",
       "      <th>3</th>\n",
       "      <td>AK14</td>\n",
       "      <td>Kali River Rapids</td>\n",
       "      <td>Kali River Rapids</td>\n",
       "      <td>Asia</td>\n",
       "      <td>02/15/1999</td>\n",
       "      <td>10.0</td>\n",
       "      <td>5.0</td>\n",
       "    </tr>\n",
       "    <tr>\n",
       "      <th>4</th>\n",
       "      <td>AK18</td>\n",
       "      <td>DINOSAUR</td>\n",
       "      <td>DINOSAUR</td>\n",
       "      <td>DinoLand U.S.A.</td>\n",
       "      <td>04/22/1998</td>\n",
       "      <td>3.5</td>\n",
       "      <td>3.0</td>\n",
       "    </tr>\n",
       "  </tbody>\n",
       "</table>\n",
       "</div>"
      ],
      "text/plain": [
       "   code                                               name   \n",
       "0  AK01                            It's Tough to Be a Bug!  \\\n",
       "1  AK07                                Kilimanjaro Safaris   \n",
       "2  AK11  Expedition Everest - Legend of the Forbidden M...   \n",
       "3  AK14                                  Kali River Rapids   \n",
       "4  AK18                                           DINOSAUR   \n",
       "\n",
       "               short_name              land   opened_on  duration   \n",
       "0  It's Tough to Be a Bug  Discovery Island  04/22/1998       8.0  \\\n",
       "1     Kilimanjaro Safaris            Africa  04/22/1998      20.0   \n",
       "2      Expedition Everest              Asia  04/07/2006       4.0   \n",
       "3       Kali River Rapids              Asia  02/15/1999      10.0   \n",
       "4                DINOSAUR   DinoLand U.S.A.  04/22/1998       3.5   \n",
       "\n",
       "   average_wait_per_hundred  \n",
       "0                      12.0  \n",
       "1                       4.0  \n",
       "2                       4.0  \n",
       "3                       5.0  \n",
       "4                       3.0  "
      ]
     },
     "execution_count": 104,
     "metadata": {},
     "output_type": "execute_result"
    }
   ],
   "source": [
    "# data set includes entities.csv with ride names, duration, park code, etc.\n",
    "\n",
    "entity_df = pd.read_csv('/Users/melhaley/Documents/TheDataIncubator/Capstone/ParkHacker/data/entities.csv')\n",
    "entity_df.head()"
   ]
  },
  {
   "cell_type": "code",
   "execution_count": 105,
   "id": "e50f0f68-18de-45d6-8933-6b31cad20c2d",
   "metadata": {},
   "outputs": [
    {
     "data": {
      "text/html": [
       "<div>\n",
       "<style scoped>\n",
       "    .dataframe tbody tr th:only-of-type {\n",
       "        vertical-align: middle;\n",
       "    }\n",
       "\n",
       "    .dataframe tbody tr th {\n",
       "        vertical-align: top;\n",
       "    }\n",
       "\n",
       "    .dataframe thead th {\n",
       "        text-align: right;\n",
       "    }\n",
       "</style>\n",
       "<table border=\"1\" class=\"dataframe\">\n",
       "  <thead>\n",
       "    <tr style=\"text-align: right;\">\n",
       "      <th></th>\n",
       "      <th>code</th>\n",
       "      <th>short_name</th>\n",
       "      <th>duration</th>\n",
       "    </tr>\n",
       "  </thead>\n",
       "  <tbody>\n",
       "    <tr>\n",
       "      <th>0</th>\n",
       "      <td>Animal Kingdom</td>\n",
       "      <td>It's Tough to Be a Bug</td>\n",
       "      <td>8.0</td>\n",
       "    </tr>\n",
       "    <tr>\n",
       "      <th>1</th>\n",
       "      <td>Animal Kingdom</td>\n",
       "      <td>Kilimanjaro Safaris</td>\n",
       "      <td>20.0</td>\n",
       "    </tr>\n",
       "    <tr>\n",
       "      <th>2</th>\n",
       "      <td>Animal Kingdom</td>\n",
       "      <td>Expedition Everest</td>\n",
       "      <td>4.0</td>\n",
       "    </tr>\n",
       "    <tr>\n",
       "      <th>3</th>\n",
       "      <td>Animal Kingdom</td>\n",
       "      <td>Kali River Rapids</td>\n",
       "      <td>10.0</td>\n",
       "    </tr>\n",
       "    <tr>\n",
       "      <th>4</th>\n",
       "      <td>Animal Kingdom</td>\n",
       "      <td>DINOSAUR</td>\n",
       "      <td>3.5</td>\n",
       "    </tr>\n",
       "  </tbody>\n",
       "</table>\n",
       "</div>"
      ],
      "text/plain": [
       "             code              short_name  duration\n",
       "0  Animal Kingdom  It's Tough to Be a Bug       8.0\n",
       "1  Animal Kingdom     Kilimanjaro Safaris      20.0\n",
       "2  Animal Kingdom      Expedition Everest       4.0\n",
       "3  Animal Kingdom       Kali River Rapids      10.0\n",
       "4  Animal Kingdom                DINOSAUR       3.5"
      ]
     },
     "execution_count": 105,
     "metadata": {},
     "output_type": "execute_result"
    }
   ],
   "source": [
    "# get name of ride, duration, and park for the rides in our dataset\n",
    "#first we drop parks outside of the dataset\n",
    "park_columns = ['code', 'short_name', 'duration']\n",
    "all_parks = entity_df[park_columns].copy()\n",
    "all_parks['code'] = all_parks['code'].replace(regex={r'^AK.+': 'Animal Kingdom',\n",
    "                                         r'^EP.+':'Epcot Center',\n",
    "                                         r'^HS.+': 'Hollywood Studios',\n",
    "                                         r'^MK.+': \"Magic Kingdom\"})\n",
    "park_list = ['Animal Kingdom', 'Epcot Center', 'Hollywood Studios', 'Magic Kingdom']\n",
    "all_parks = all_parks[all_parks['code'].isin(park_list)]\n",
    "all_parks = all_parks.reset_index(drop=True)\n",
    "all_parks.head()"
   ]
  },
  {
   "cell_type": "code",
   "execution_count": 108,
   "id": "edb2f2c9-6036-46dc-8286-f6f739627ca1",
   "metadata": {},
   "outputs": [
    {
     "name": "stdout",
     "output_type": "stream",
     "text": [
      "56 36\n"
     ]
    },
    {
     "data": {
      "text/plain": [
       "0        It's Tough to Be a Bug\n",
       "1           Kilimanjaro Safaris\n",
       "2            Expedition Everest\n",
       "3             Kali River Rapids\n",
       "4                      DINOSAUR\n",
       "5               TriceraTop Spin\n",
       "6                   Na'vi River\n",
       "7             Flight of Passage\n",
       "8               Spaceship Earth\n",
       "9                Seas with Nemo\n",
       "10                  Turtle Talk\n",
       "11               Living w/ Land\n",
       "12                      Soarin'\n",
       "13             Jrny Imagination\n",
       "14                   Test Track\n",
       "15            Frozen Ever After\n",
       "16            Msn: SPACE Orange\n",
       "17             Remy's Adventure\n",
       "18             Gran Fiesta Tour\n",
       "19             Muppet*Vision 3D\n",
       "20                   Slinky Dog\n",
       "21                Alien Saucers\n",
       "22              Runaway Railway\n",
       "23            Millennium Falcon\n",
       "24           Rise of Resistance\n",
       "25               Racing Academy\n",
       "26                 Rock Coaster\n",
       "27                   Star Tours\n",
       "28             Toy Story Mania!\n",
       "29              Tower of Terror\n",
       "30       Meet Mickey and Minnie\n",
       "31               Space Mountain\n",
       "32               Buzz Lightyear\n",
       "33              Big Thunder Mtn\n",
       "34              Splash Mountain\n",
       "35           Peter Pan's Flight\n",
       "36              Winnie the Pooh\n",
       "37                Jungle Cruise\n",
       "38               7 Dwarfs Train\n",
       "39                Under the Sea\n",
       "40                Magic Carpets\n",
       "41         Pirates of Caribbean\n",
       "42    Princess Hall: Cinderella\n",
       "43         Princess Hall: Tiana\n",
       "44              Haunted Mansion\n",
       "45              Regal Carrousel\n",
       "46                        Dumbo\n",
       "47           it's a small world\n",
       "48                Mad Tea Party\n",
       "49                 PhilharMagic\n",
       "50                  Barnstormer\n",
       "51                Astro Orbiter\n",
       "52                  Laugh Floor\n",
       "53            Tom'land Speedway\n",
       "54                  PeopleMover\n",
       "55               Town Sq Mickey\n",
       "Name: short_name, dtype: object"
      ]
     },
     "execution_count": 108,
     "metadata": {},
     "output_type": "execute_result"
    }
   ],
   "source": [
    "# our data does not include all rides for each park, so we will need to drop rows in parks_df\n",
    "print(all_parks['short_name'].shape[0], len(ride_names))\n",
    "all_parks['short_name']"
   ]
  },
  {
   "cell_type": "code",
   "execution_count": 109,
   "id": "97ef2468-c2d0-403e-90d7-a4917e09661d",
   "metadata": {},
   "outputs": [
    {
     "data": {
      "text/plain": [
       "(36, 3)"
      ]
     },
     "execution_count": 109,
     "metadata": {},
     "output_type": "execute_result"
    }
   ],
   "source": [
    "# remove the rides without valid csv data files\n",
    "\n",
    "parks_df = all_parks.drop([0,3,5,9,10,11,13,14,15,16,17,18,19,22,23,24,25,27,29,30])\n",
    "parks_df.shape"
   ]
  },
  {
   "cell_type": "code",
   "execution_count": 153,
   "id": "fb35b9f2-2908-49cc-91e5-c329af11f0ea",
   "metadata": {},
   "outputs": [],
   "source": [
    "# add ride_names to parks df and save to csv\n",
    "\n",
    "parks_df = parks_df.sort_values(by=['short_name'], key=lambda col: col.str.lower())\n",
    "parks_df['ride'] = sorted(ride_names)\n",
    "parks_df.sort_index().to_csv('parks_df.csv')"
   ]
  },
  {
   "cell_type": "code",
   "execution_count": 161,
   "id": "87e29efb-83b9-4bc7-bd89-b378b2bcb565",
   "metadata": {},
   "outputs": [
    {
     "data": {
      "text/html": [
       "<div>\n",
       "<style scoped>\n",
       "    .dataframe tbody tr th:only-of-type {\n",
       "        vertical-align: middle;\n",
       "    }\n",
       "\n",
       "    .dataframe tbody tr th {\n",
       "        vertical-align: top;\n",
       "    }\n",
       "\n",
       "    .dataframe thead th {\n",
       "        text-align: right;\n",
       "    }\n",
       "</style>\n",
       "<table border=\"1\" class=\"dataframe\">\n",
       "  <thead>\n",
       "    <tr style=\"text-align: right;\">\n",
       "      <th></th>\n",
       "      <th>code</th>\n",
       "      <th>short_name</th>\n",
       "      <th>duration</th>\n",
       "      <th>ride</th>\n",
       "    </tr>\n",
       "  </thead>\n",
       "  <tbody>\n",
       "    <tr>\n",
       "      <th>38</th>\n",
       "      <td>Magic Kingdom</td>\n",
       "      <td>7 Dwarfs Train</td>\n",
       "      <td>3.0</td>\n",
       "      <td>7_dwarfs_train</td>\n",
       "    </tr>\n",
       "    <tr>\n",
       "      <th>21</th>\n",
       "      <td>Hollywood Studios</td>\n",
       "      <td>Alien Saucers</td>\n",
       "      <td>2.5</td>\n",
       "      <td>alien_saucers</td>\n",
       "    </tr>\n",
       "    <tr>\n",
       "      <th>51</th>\n",
       "      <td>Magic Kingdom</td>\n",
       "      <td>Astro Orbiter</td>\n",
       "      <td>1.5</td>\n",
       "      <td>astro_orbiter</td>\n",
       "    </tr>\n",
       "    <tr>\n",
       "      <th>50</th>\n",
       "      <td>Magic Kingdom</td>\n",
       "      <td>Barnstormer</td>\n",
       "      <td>2.0</td>\n",
       "      <td>barnstormer</td>\n",
       "    </tr>\n",
       "    <tr>\n",
       "      <th>33</th>\n",
       "      <td>Magic Kingdom</td>\n",
       "      <td>Big Thunder Mtn</td>\n",
       "      <td>7.0</td>\n",
       "      <td>big_thunder_mtn</td>\n",
       "    </tr>\n",
       "  </tbody>\n",
       "</table>\n",
       "</div>"
      ],
      "text/plain": [
       "                 code       short_name  duration             ride\n",
       "38      Magic Kingdom   7 Dwarfs Train       3.0   7_dwarfs_train\n",
       "21  Hollywood Studios    Alien Saucers       2.5    alien_saucers\n",
       "51      Magic Kingdom    Astro Orbiter       1.5    astro_orbiter\n",
       "50      Magic Kingdom      Barnstormer       2.0      barnstormer\n",
       "33      Magic Kingdom  Big Thunder Mtn       7.0  big_thunder_mtn"
      ]
     },
     "execution_count": 161,
     "metadata": {},
     "output_type": "execute_result"
    }
   ],
   "source": [
    "parks_df.head()"
   ]
  },
  {
   "cell_type": "code",
   "execution_count": 184,
   "id": "b0604e86-d95c-4e0f-9c14-35edbbf072dc",
   "metadata": {},
   "outputs": [
    {
     "data": {
      "text/plain": [
       "float"
      ]
     },
     "execution_count": 184,
     "metadata": {},
     "output_type": "execute_result"
    }
   ],
   "source": [
    "parks_df['duration'].loc[(parks_df['short_name'] == 'Spaceship Earth')].item()"
   ]
  },
  {
   "cell_type": "markdown",
   "id": "dcf1c341-55eb-42e3-8ac0-61a1df8d72c6",
   "metadata": {
    "tags": []
   },
   "source": [
    "### Get ride coordinates from api.themeparks.wiki"
   ]
  },
  {
   "cell_type": "code",
   "execution_count": 15,
   "id": "00101fef-d8c5-4be9-b126-9b43ad04a34d",
   "metadata": {},
   "outputs": [],
   "source": [
    "# api call to get ids for Walt Disney World entities\n",
    "rides_get = requests.get('https://api.themeparks.wiki/v1/entity/e957da41-3552-4cf6-b636-5babc5cbc4e5/children').json()"
   ]
  },
  {
   "cell_type": "code",
   "execution_count": 16,
   "id": "ecc2f394-a8c0-489c-bfa3-a12734bf9b44",
   "metadata": {
    "tags": []
   },
   "outputs": [
    {
     "data": {
      "text/html": [
       "<div>\n",
       "<style scoped>\n",
       "    .dataframe tbody tr th:only-of-type {\n",
       "        vertical-align: middle;\n",
       "    }\n",
       "\n",
       "    .dataframe tbody tr th {\n",
       "        vertical-align: top;\n",
       "    }\n",
       "\n",
       "    .dataframe thead th {\n",
       "        text-align: right;\n",
       "    }\n",
       "</style>\n",
       "<table border=\"1\" class=\"dataframe\">\n",
       "  <thead>\n",
       "    <tr style=\"text-align: right;\">\n",
       "      <th></th>\n",
       "      <th>id</th>\n",
       "      <th>name</th>\n",
       "      <th>entityType</th>\n",
       "      <th>timezone</th>\n",
       "      <th>children</th>\n",
       "    </tr>\n",
       "  </thead>\n",
       "  <tbody>\n",
       "    <tr>\n",
       "      <th>0</th>\n",
       "      <td>e957da41-3552-4cf6-b636-5babc5cbc4e5</td>\n",
       "      <td>Walt Disney World® Resort</td>\n",
       "      <td>DESTINATION</td>\n",
       "      <td>America/New_York</td>\n",
       "      <td>{'id': '8b5b9a00-b2cc-4bd9-bf39-9c312c17e8cb',...</td>\n",
       "    </tr>\n",
       "    <tr>\n",
       "      <th>1</th>\n",
       "      <td>e957da41-3552-4cf6-b636-5babc5cbc4e5</td>\n",
       "      <td>Walt Disney World® Resort</td>\n",
       "      <td>DESTINATION</td>\n",
       "      <td>America/New_York</td>\n",
       "      <td>{'id': 'd58db4d0-3bad-4655-937b-1cbc9ed0e880',...</td>\n",
       "    </tr>\n",
       "    <tr>\n",
       "      <th>2</th>\n",
       "      <td>e957da41-3552-4cf6-b636-5babc5cbc4e5</td>\n",
       "      <td>Walt Disney World® Resort</td>\n",
       "      <td>DESTINATION</td>\n",
       "      <td>America/New_York</td>\n",
       "      <td>{'id': '75ea578a-adc8-4116-a54d-dccb60765ef9',...</td>\n",
       "    </tr>\n",
       "    <tr>\n",
       "      <th>3</th>\n",
       "      <td>e957da41-3552-4cf6-b636-5babc5cbc4e5</td>\n",
       "      <td>Walt Disney World® Resort</td>\n",
       "      <td>DESTINATION</td>\n",
       "      <td>America/New_York</td>\n",
       "      <td>{'id': '47f90d2c-e191-4239-a466-5892ef59a88b',...</td>\n",
       "    </tr>\n",
       "    <tr>\n",
       "      <th>4</th>\n",
       "      <td>e957da41-3552-4cf6-b636-5babc5cbc4e5</td>\n",
       "      <td>Walt Disney World® Resort</td>\n",
       "      <td>DESTINATION</td>\n",
       "      <td>America/New_York</td>\n",
       "      <td>{'id': 'b2148542-8777-4bdc-b2c3-f366d80281a1',...</td>\n",
       "    </tr>\n",
       "  </tbody>\n",
       "</table>\n",
       "</div>"
      ],
      "text/plain": [
       "                                     id                       name   \n",
       "0  e957da41-3552-4cf6-b636-5babc5cbc4e5  Walt Disney World® Resort  \\\n",
       "1  e957da41-3552-4cf6-b636-5babc5cbc4e5  Walt Disney World® Resort   \n",
       "2  e957da41-3552-4cf6-b636-5babc5cbc4e5  Walt Disney World® Resort   \n",
       "3  e957da41-3552-4cf6-b636-5babc5cbc4e5  Walt Disney World® Resort   \n",
       "4  e957da41-3552-4cf6-b636-5babc5cbc4e5  Walt Disney World® Resort   \n",
       "\n",
       "    entityType          timezone   \n",
       "0  DESTINATION  America/New_York  \\\n",
       "1  DESTINATION  America/New_York   \n",
       "2  DESTINATION  America/New_York   \n",
       "3  DESTINATION  America/New_York   \n",
       "4  DESTINATION  America/New_York   \n",
       "\n",
       "                                            children  \n",
       "0  {'id': '8b5b9a00-b2cc-4bd9-bf39-9c312c17e8cb',...  \n",
       "1  {'id': 'd58db4d0-3bad-4655-937b-1cbc9ed0e880',...  \n",
       "2  {'id': '75ea578a-adc8-4116-a54d-dccb60765ef9',...  \n",
       "3  {'id': '47f90d2c-e191-4239-a466-5892ef59a88b',...  \n",
       "4  {'id': 'b2148542-8777-4bdc-b2c3-f366d80281a1',...  "
      ]
     },
     "execution_count": 16,
     "metadata": {},
     "output_type": "execute_result"
    }
   ],
   "source": [
    "# create data frame and inspect\n",
    "rides_get_df = pd.DataFrame(rides_get)\n",
    "rides_get_df.head()"
   ]
  },
  {
   "cell_type": "code",
   "execution_count": 17,
   "id": "3f1b0882-07be-45cd-b78b-82eee5d8d6f6",
   "metadata": {},
   "outputs": [
    {
     "data": {
      "text/plain": [
       "{'id': '8b5b9a00-b2cc-4bd9-bf39-9c312c17e8cb',\n",
       " 'name': 'Sanaa Lounge',\n",
       " 'entityType': 'RESTAURANT',\n",
       " 'slug': 'sanaalounge',\n",
       " 'externalId': '15602781;entityType=restaurant'}"
      ]
     },
     "execution_count": 17,
     "metadata": {},
     "output_type": "execute_result"
    }
   ],
   "source": [
    "# expand 'children' column\n",
    "rides_get_df['children'][0]"
   ]
  },
  {
   "cell_type": "code",
   "execution_count": 18,
   "id": "9a212008-2798-4bb5-ac47-6b8c858d68e1",
   "metadata": {},
   "outputs": [],
   "source": [
    "# get ids for rides/attractions only\n",
    "attractions = [ride['id'] for ride in rides_get_df['children'] if ride['entityType'] == 'ATTRACTION']"
   ]
  },
  {
   "cell_type": "code",
   "execution_count": 19,
   "id": "94050470-4844-488c-9d11-dd1717f974ed",
   "metadata": {},
   "outputs": [],
   "source": [
    "# api call to get coordinates for each ride id\n",
    "coordinates = {}\n",
    "for ride in attractions:\n",
    "    ride_get = requests.get(f'https://api.themeparks.wiki/v1/entity/{ride}').json()\n",
    "    coordinates[ride_get['name']] = (ride_get['location']['latitude'], ride_get['location']['longitude'])\n",
    "    \n",
    "with open('coordinates', 'wb') as f:\n",
    "    dill.dump(coordinates, f)   "
   ]
  },
  {
   "cell_type": "code",
   "execution_count": 123,
   "id": "5d16ea4d-530a-46cd-ba1b-ae8291a1df07",
   "metadata": {},
   "outputs": [],
   "source": [
    "# create coordinate dictionary for each park\n",
    "# ended up replacing api coordinates with gmaps coordinates for better accuracy\n",
    "MK_coord = {'Space Mountain': (28.419201980778723, -81.5772043301858),\n",
    "            \"Buzz Lightyear\": (28.418140529659667, -81.57970800504081),\n",
    "            'Big Thunder Mtn': (28.420363191559492, -81.58479847483135),\n",
    "            'Splash Mountain': (28.419301531937133, -81.58483619793391),\n",
    "            \"Peter Pan's Flight\": (28.42031822118516, -81.58195711244385),\n",
    "            'Winnie the Pooh': (28.420081267315698, -81.58091991300176),\n",
    "            'Jungle Cruise': (28.4180104581068, -81.583468208738),\n",
    "            '7 Dwarfs Train': (28.42068561007527, -81.57966639783211),\n",
    "            'Under the Sea': (28.421054629551012, -81.58016876122969),\n",
    "            'Magic Carpets': (28.418520878943376, -81.58367713666986),\n",
    "            'Pirates of Caribbean': (28.418056396082246, -81.58424298326784),\n",
    "            'Princess Hall: Cinderella': (28.42014556601841, -81.58015476000227),\n",
    "            'Princess Hall: Tiana': (28.42014556601841, -81.58015476000227),\n",
    "            'Haunted Mansion': (28.420137257117283, -81.58294497299853),\n",
    "            'Regal Carrousel': (28.420274155776088, -81.58103942108878),\n",
    "            'Dumbo': (28.42040455107225, -81.57903004710712),\n",
    "            \"it's a small world\": (28.420621915256056, -81.58199483554829),\n",
    "            'Mad Tea Party': (28.419957700391624, -81.57980906752827),\n",
    "            \"PhilharMagic\": (28.4200425989214, -81.58159148850842),\n",
    "            'Barnstormer': (28.420853489550115, -81.57867618550581),\n",
    "            'Astro Orbiter': (28.41845452525681, -81.57924558600901),\n",
    "            'Laugh Floor': (28.41841900537521, -81.57986822442584),\n",
    "            \"Tom'land Speedway\": (28.419421976134636, -81.57911956586078),\n",
    "            'PeopleMover': (28.41841900538073, -81.57886711120706),\n",
    "            'Town Sq Mickey':(28.416861853098062, -81.57990799678127)}\n",
    "\n",
    "HS_coord = {'Slinky Dog': (28.356566838524667, -81.56329942563616),\n",
    "            'Alien Saucers': (28.3553504092135, -81.5629056353794),\n",
    "            \"Rock Coaster\": (28.359618148460488, -81.56072991481986),\n",
    "            'Toy Story Mania!': (28.356505923138783, -81.56196557155904)}\n",
    "\n",
    "EC_coord = {'Spaceship Earth': (28.37542086382473, -81.54946777685959), \n",
    "             \"Soarin'\": (28.373986005531087, -81.55267569873278)}\n",
    "\n",
    "AK_coord = {\"It's Tough to Be a Bug\": (28.357603297224315, -81.5899441481489),\n",
    "            'Kilimanjaro Safaris': (28.36295471365359, -81.59382240288605),\n",
    "            'Expedition Everest': (28.358429781123455, -81.5857526610227),\n",
    "            'DINOSAUR': (28.35556946297818, -81.58889815320649),\n",
    "            \"Na'vi River\": (28.35469077966241, -81.59184550190014),\n",
    "            'Flight of Passage': (28.35480628295068, -81.59257979335898)}\n",
    "\n",
    "MK_entrance = (28.41619616643251, -81.58119853273976)\n",
    "AK_entrance = (28.35518331566209, -81.5900815235851)\n",
    "EC_entrance = (28.37625808732175, -81.54944454986719)\n",
    "HS_entrance = (28.35826216046488, -81.55887585232853)"
   ]
  },
  {
   "cell_type": "markdown",
   "id": "e553ebda-cddf-4298-9616-0655b7f72fda",
   "metadata": {},
   "source": [
    "#### Query google maps distance matrix for each ride origin/destination pair"
   ]
  },
  {
   "cell_type": "code",
   "execution_count": 145,
   "id": "eec3c7d7-3e7f-4c4d-94f1-b54171c9fc9e",
   "metadata": {},
   "outputs": [],
   "source": [
    "# generate origin/destination pairs for all rides in each park\n",
    "MK_paths = [path for path in combinations(MK_coord.items(), 2)]\n",
    "HS_paths = [path for path in combinations(HS_coord.items(), 2)]\n",
    "EC_paths = [path for path in combinations(EC_coord.items(), 2)]\n",
    "AK_paths = [path for path in combinations(AK_coord.items(), 2)]"
   ]
  },
  {
   "cell_type": "code",
   "execution_count": 126,
   "id": "4dde06c4-5b26-4c0c-840e-5b4d7f010068",
   "metadata": {
    "tags": []
   },
   "outputs": [],
   "source": [
    "# requires Google Maps API key\n",
    "API_key = ******* #enter Google Maps API key\n",
    "gmaps = googlemaps.Client(key=API_key)"
   ]
  },
  {
   "cell_type": "code",
   "execution_count": 136,
   "id": "32751152-de1f-4b33-962a-d236fe783596",
   "metadata": {},
   "outputs": [],
   "source": [
    "# function to query gmaps distance matrix for each origin/destination pair\n",
    "# returns dataframe of travel durations in seconds and distances in meters\n",
    "def from_entrance(entrance, coord_dict, gmaps_key):\n",
    "    travel_df = pd.DataFrame(columns=['origin','destination','duration','distance'])\n",
    "    n=0\n",
    "    for key, value in coord_dict.items():\n",
    "        o_coord = entrance\n",
    "        d_coord = value \n",
    "        result = gmaps_key.distance_matrix(o_coord, d_coord, mode='walking')\n",
    "        origin = 'entrance'\n",
    "        destination = key\n",
    "        result_dict = {'origin': origin,\n",
    "                       'destination': destination,\n",
    "                       'duration' : result['rows'][0]['elements'][0]['duration']['value'],\n",
    "                       'distance': result['rows'][0]['elements'][0]['distance']['value']}\n",
    "        travel_df.loc[n] = result_dict\n",
    "        n+=1\n",
    "    return travel_df"
   ]
  },
  {
   "cell_type": "code",
   "execution_count": 142,
   "id": "7af82e3c-c98b-4b53-be92-cfbfc3543995",
   "metadata": {},
   "outputs": [],
   "source": [
    "# function to query gmaps distance matrix for each origin/destination pair\n",
    "# returns dataframe of travel durations in seconds and distances in meters\n",
    "def get_travel(paths, gmaps_key):\n",
    "    travel_df = pd.DataFrame(columns=['origin','destination','duration','distance'])\n",
    "    for n in range(len(paths)):\n",
    "        o_coord = paths[n][0][1]\n",
    "        d_coord = paths[n][1][1]  \n",
    "        result = gmaps_key.distance_matrix(o_coord, d_coord, mode='walking')\n",
    "        origin = paths[n][0][0]\n",
    "        destination = paths[n][1][0]\n",
    "        result_dict = {'origin': origin,\n",
    "                       'destination': destination,\n",
    "                       'duration' : result['rows'][0]['elements'][0]['duration']['value'],\n",
    "                       'distance': result['rows'][0]['elements'][0]['distance']['value']}\n",
    "        travel_df.loc[n] = result_dict\n",
    "    return travel_df"
   ]
  },
  {
   "cell_type": "code",
   "execution_count": 146,
   "id": "86ee4087-2e2e-4ea1-8248-ff92e5b797c9",
   "metadata": {},
   "outputs": [],
   "source": [
    "# make api calls for travel between rides\n",
    "EC_travel = get_travel(EC_paths, gmaps)\n",
    "AK_travel = get_travel(AK_paths, gmaps)\n",
    "HS_travel = get_travel(HS_paths, gmaps)\n",
    "MK_travel = get_travel(MK_paths, gmaps)"
   ]
  },
  {
   "cell_type": "code",
   "execution_count": 139,
   "id": "bd57789a-b37d-4252-9631-f8cfb7fac0c3",
   "metadata": {},
   "outputs": [],
   "source": [
    "# make api calls for travel from entrance to first ride\n",
    "EC_start = from_entrance(EC_entrance, EC_coord, gmaps)\n",
    "MK_start = from_entrance(MK_entrance, MK_coord, gmaps)\n",
    "AK_start = from_entrance(AK_entrance, AK_coord, gmaps)\n",
    "HS_start = from_entrance(HS_entrance, HS_coord, gmaps)"
   ]
  },
  {
   "cell_type": "code",
   "execution_count": 147,
   "id": "d0a93de1-c8ae-41ef-9c52-479947351eef",
   "metadata": {},
   "outputs": [],
   "source": [
    "# combine all travel info into one dataframe\n",
    "\n",
    "travel_df = pd.concat([AK_start,\n",
    "                       AK_travel,\n",
    "                       EC_start,\n",
    "                       EC_travel, \n",
    "                       HS_start,\n",
    "                       HS_travel, \n",
    "                       MK_start,\n",
    "                       MK_travel], axis=0, ignore_index=True)\n",
    "travel_df.to_csv('travel_df.csv', index=False)"
   ]
  }
 ],
 "metadata": {
  "kernelspec": {
   "display_name": "Capstone Development",
   "language": "python",
   "name": "capstone-dev"
  },
  "language_info": {
   "codemirror_mode": {
    "name": "ipython",
    "version": 3
   },
   "file_extension": ".py",
   "mimetype": "text/x-python",
   "name": "python",
   "nbconvert_exporter": "python",
   "pygments_lexer": "ipython3",
   "version": "3.9.6"
  }
 },
 "nbformat": 4,
 "nbformat_minor": 5
}
